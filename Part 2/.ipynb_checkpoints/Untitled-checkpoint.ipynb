{
 "cells": [
  {
   "cell_type": "markdown",
   "id": "bd8a1614",
   "metadata": {},
   "source": [
    "## Part 2\n",
    "\n",
    "In this task, R was used and AKBNK-ISCTR and AKBNK-YKNBK pairs, which are among the highly correlated stocks determined in Task 1, were used.\n",
    "\n",
    "When incorporating time series analysis, there are various model options available, such as ARIMA models and Vector Auto-Regressive (VAR) models. For our pairs trading strategy, we have chosen to use the Vector Error Correction Model (VECM), an extension of the Vector Auto-Regressive (VAR) model, based on research. This modeling approach gives reliable estimates for multiple time series with long-term equilibrium relationships. The VECM assumes the existence of at least one cointegrating relationship, and with the Johansen Procedure, which will be employed below, we confirm that our pairs are cointegrated.*\n",
    "\n",
    "*Schmidt, Arlen David. “Pairs Trading: A Cointegration Approach.” Honours Thesis, Discipline of Finance, 2009. University of Sydney. https://ses.library.usyd.edu.au/handle/2123/4072"
   ]
  },
  {
   "cell_type": "code",
   "execution_count": null,
   "id": "dbabd7b4",
   "metadata": {},
   "outputs": [],
   "source": [
    "#Initially, data is read from CSV files using the readr library.\n",
    "\n",
    "excel1 <- read_csv(\"C:/Users/ahmet/Desktop/Ders/IE423/Project/Part 2/Data/20191230_20200329_bist30.csv\", show_col_types = FALSE)\n",
    "excel2 <- read_csv(\"C:/Users/ahmet/Desktop/Ders/IE423/Project/Part 2/Data/20200330_20200628_bist30.csv\", show_col_types = FALSE)\n",
    "excel3 <- read_csv(\"C:/Users/ahmet/Desktop/Ders/IE423/Project/Part 2/Data/20200629_20200927_bist30.csv\", show_col_types = FALSE)\n",
    "excel4 <- read_csv(\"C:/Users/ahmet/Desktop/Ders/IE423/Project/Part 2/Data/20200928_20201227_bist30.csv\", show_col_types = FALSE)\n",
    "\n",
    "#The tidyverse library is loaded, and the spread function is used to pivot each read dataset. This transforms the data from long to wide format.\n",
    "\n",
    "excel1_wide <- spread(excel1, key = short_name, value = price)\n",
    "excel2_wide <- spread(excel2, key = short_name, value = price)\n",
    "excel3_wide <- spread(excel3, key = short_name, value = price)\n",
    "excel4_wide <- spread(excel4, key = short_name, value = price)\n",
    "\n",
    "\n",
    "# The rbind function is used to concatenate all the widened datasets, creating a new dataset named all_data.\n",
    "all_data <- rbind(excel1_wide, excel2_wide, excel3_wide, excel4_wide)\n",
    "print(all_data)"
   ]
  }
 ],
 "metadata": {
  "kernelspec": {
   "display_name": "R",
   "language": "R",
   "name": "ir"
  },
  "language_info": {
   "codemirror_mode": "r",
   "file_extension": ".r",
   "mimetype": "text/x-r-source",
   "name": "R",
   "pygments_lexer": "r",
   "version": "3.6.1"
  }
 },
 "nbformat": 4,
 "nbformat_minor": 5
}
